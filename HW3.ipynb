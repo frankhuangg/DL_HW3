{
  "nbformat": 4,
  "nbformat_minor": 0,
  "metadata": {
    "colab": {
      "provenance": [],
      "authorship_tag": "ABX9TyPIuK8ju83B1s4vqI28D/mG",
      "include_colab_link": true
    },
    "kernelspec": {
      "name": "python3",
      "display_name": "Python 3"
    },
    "language_info": {
      "name": "python"
    }
  },
  "cells": [
    {
      "cell_type": "markdown",
      "metadata": {
        "id": "view-in-github",
        "colab_type": "text"
      },
      "source": [
        "<a href=\"https://colab.research.google.com/github/frankhuangg/DL_HW3/blob/main/HW3.ipynb\" target=\"_parent\"><img src=\"https://colab.research.google.com/assets/colab-badge.svg\" alt=\"Open In Colab\"/></a>"
      ]
    },
    {
      "cell_type": "code",
      "execution_count": 1,
      "metadata": {
        "id": "jjPEWseagMLn",
        "colab": {
          "base_uri": "https://localhost:8080/"
        },
        "outputId": "94ceee6c-c7d7-4d3a-ea87-d04e5c00b6a3"
      },
      "outputs": [
        {
          "output_type": "stream",
          "name": "stdout",
          "text": [
            "Looking in indexes: https://pypi.org/simple, https://us-python.pkg.dev/colab-wheels/public/simple/\n",
            "Collecting package_name\n",
            "  Downloading package_name-0.1.tar.gz (782 bytes)\n",
            "Building wheels for collected packages: package-name\n",
            "  Building wheel for package-name (setup.py) ... \u001b[?25l\u001b[?25hdone\n",
            "  Created wheel for package-name: filename=package_name-0.1-py3-none-any.whl size=1254 sha256=adac4309b5729b4ce8d4ad75d983af126b40c8964be923ae3424dae3b89cfb38\n",
            "  Stored in directory: /root/.cache/pip/wheels/aa/56/2f/2bf8ec875b1c71660b2692b4aab073132abc78ac076140489b\n",
            "Successfully built package-name\n",
            "Installing collected packages: package-name\n",
            "Successfully installed package-name-0.1\n"
          ]
        }
      ],
      "source": [
        "!pip install package_name"
      ]
    },
    {
      "cell_type": "markdown",
      "source": [
        "將 tensorflow 值都設為 1"
      ],
      "metadata": {
        "id": "sfDW9Brok4oc"
      }
    },
    {
      "cell_type": "code",
      "source": [
        "import tensorflow as tf\n",
        "x = tf.ones(shape=(2, 1))\n",
        "print(x)"
      ],
      "metadata": {
        "colab": {
          "base_uri": "https://localhost:8080/"
        },
        "id": "gYhLDD2ZgshE",
        "outputId": "0443e604-26cb-4c24-89a6-8cdaae19aa9a"
      },
      "execution_count": 7,
      "outputs": [
        {
          "output_type": "stream",
          "name": "stdout",
          "text": [
            "tf.Tensor(\n",
            "[[1.]\n",
            " [1.]], shape=(2, 1), dtype=float32)\n"
          ]
        }
      ]
    },
    {
      "cell_type": "markdown",
      "source": [
        "將 tensorflow 值都設為 0"
      ],
      "metadata": {
        "id": "chipxexuk_kF"
      }
    },
    {
      "cell_type": "code",
      "source": [
        "x = tf.zeros(shape=(2, 1))\n",
        "print(x)"
      ],
      "metadata": {
        "colab": {
          "base_uri": "https://localhost:8080/"
        },
        "id": "rLH5FvAygv_o",
        "outputId": "a53a0bf8-3fc6-4062-d513-9ce7e05f14d6"
      },
      "execution_count": 9,
      "outputs": [
        {
          "output_type": "stream",
          "name": "stdout",
          "text": [
            "tf.Tensor(\n",
            "[[0.]\n",
            " [0.]], shape=(2, 1), dtype=float32)\n"
          ]
        }
      ]
    },
    {
      "cell_type": "markdown",
      "source": [
        "將 tensorflow 值用隨機亂數"
      ],
      "metadata": {
        "id": "0PTR5NmZlCZb"
      }
    },
    {
      "cell_type": "code",
      "source": [
        "x = tf.random.normal(shape=(3, 1), mean=0., stddev=1.)\n",
        "print(x)"
      ],
      "metadata": {
        "colab": {
          "base_uri": "https://localhost:8080/"
        },
        "id": "KklGjugOiSf3",
        "outputId": "b7d7e54f-5f92-4211-8338-8b4f6f279316"
      },
      "execution_count": 10,
      "outputs": [
        {
          "output_type": "stream",
          "name": "stdout",
          "text": [
            "tf.Tensor(\n",
            "[[ 0.40080732]\n",
            " [-0.5787242 ]\n",
            " [-0.57168394]], shape=(3, 1), dtype=float32)\n"
          ]
        }
      ]
    },
    {
      "cell_type": "code",
      "source": [
        "x = tf.random.uniform(shape=(3, 1), minval=0., maxval=1.)\n",
        "print(x)"
      ],
      "metadata": {
        "colab": {
          "base_uri": "https://localhost:8080/"
        },
        "id": "YxOX5_DAiZoQ",
        "outputId": "88061886-30d7-45c1-8338-b66d67e80cea"
      },
      "execution_count": 11,
      "outputs": [
        {
          "output_type": "stream",
          "name": "stdout",
          "text": [
            "tf.Tensor(\n",
            "[[0.91765547]\n",
            " [0.8345872 ]\n",
            " [0.13453186]], shape=(3, 1), dtype=float32)\n"
          ]
        }
      ]
    },
    {
      "cell_type": "markdown",
      "source": [
        " NumPy 數組是可賦值的"
      ],
      "metadata": {
        "id": "pf2mw-hqlGzu"
      }
    },
    {
      "cell_type": "code",
      "source": [
        "import numpy as np\n",
        "x = np.ones(shape=(2, 2))\n",
        "x[0, 0] = 0."
      ],
      "metadata": {
        "id": "yYDpHdB9iZ13"
      },
      "execution_count": 12,
      "outputs": []
    },
    {
      "cell_type": "markdown",
      "source": [
        "TensorFlow 張量不可賦值"
      ],
      "metadata": {
        "id": "4ltKlj1QlUW1"
      }
    },
    {
      "cell_type": "code",
      "source": [
        "x = tf.ones(shape=(2, 2))\n",
        "x[0, 0] = 0."
      ],
      "metadata": {
        "colab": {
          "base_uri": "https://localhost:8080/",
          "height": 185
        },
        "id": "7t576m3jlYGT",
        "outputId": "445aa45f-48d6-4b31-e0fc-b8c6a41ccaee"
      },
      "execution_count": 43,
      "outputs": [
        {
          "output_type": "error",
          "ename": "TypeError",
          "evalue": "ignored",
          "traceback": [
            "\u001b[0;31m---------------------------------------------------------------------------\u001b[0m",
            "\u001b[0;31mTypeError\u001b[0m                                 Traceback (most recent call last)",
            "\u001b[0;32m<ipython-input-43-09deea229eff>\u001b[0m in \u001b[0;36m<module>\u001b[0;34m\u001b[0m\n\u001b[1;32m      1\u001b[0m \u001b[0mx\u001b[0m \u001b[0;34m=\u001b[0m \u001b[0mtf\u001b[0m\u001b[0;34m.\u001b[0m\u001b[0mones\u001b[0m\u001b[0;34m(\u001b[0m\u001b[0mshape\u001b[0m\u001b[0;34m=\u001b[0m\u001b[0;34m(\u001b[0m\u001b[0;36m2\u001b[0m\u001b[0;34m,\u001b[0m \u001b[0;36m2\u001b[0m\u001b[0;34m)\u001b[0m\u001b[0;34m)\u001b[0m\u001b[0;34m\u001b[0m\u001b[0;34m\u001b[0m\u001b[0m\n\u001b[0;32m----> 2\u001b[0;31m \u001b[0mx\u001b[0m\u001b[0;34m[\u001b[0m\u001b[0;36m0\u001b[0m\u001b[0;34m,\u001b[0m \u001b[0;36m0\u001b[0m\u001b[0;34m]\u001b[0m \u001b[0;34m=\u001b[0m \u001b[0;36m0.\u001b[0m\u001b[0;34m\u001b[0m\u001b[0;34m\u001b[0m\u001b[0m\n\u001b[0m",
            "\u001b[0;31mTypeError\u001b[0m: 'tensorflow.python.framework.ops.EagerTensor' object does not support item assignment"
          ]
        }
      ]
    },
    {
      "cell_type": "markdown",
      "source": [
        "創建一個 TensorFlow 變量"
      ],
      "metadata": {
        "id": "6D-ITUhelanI"
      }
    },
    {
      "cell_type": "code",
      "source": [
        "v = tf.Variable(initial_value=tf.random.normal(shape=(3, 1)))\n",
        "print(v)"
      ],
      "metadata": {
        "colab": {
          "base_uri": "https://localhost:8080/"
        },
        "id": "m37yvk_siaDi",
        "outputId": "ee41e2f8-7f6f-42ba-a937-336e66448427"
      },
      "execution_count": 13,
      "outputs": [
        {
          "output_type": "stream",
          "name": "stdout",
          "text": [
            "<tf.Variable 'Variable:0' shape=(3, 1) dtype=float32, numpy=\n",
            "array([[ 1.3563285 ],\n",
            "       [-0.47516462],\n",
            "       [ 0.3708823 ]], dtype=float32)>\n"
          ]
        }
      ]
    },
    {
      "cell_type": "markdown",
      "source": [
        "為 TensorFlow 變量賦值"
      ],
      "metadata": {
        "id": "2Tt1f6fglelX"
      }
    },
    {
      "cell_type": "code",
      "source": [
        "v.assign(tf.ones((3, 1)))"
      ],
      "metadata": {
        "colab": {
          "base_uri": "https://localhost:8080/"
        },
        "id": "E7_dEOaciial",
        "outputId": "3aeb8da0-28bd-43db-e656-5bb1fbcb3213"
      },
      "execution_count": 14,
      "outputs": [
        {
          "output_type": "execute_result",
          "data": {
            "text/plain": [
              "<tf.Variable 'UnreadVariable' shape=(3, 1) dtype=float32, numpy=\n",
              "array([[1.],\n",
              "       [1.],\n",
              "       [1.]], dtype=float32)>"
            ]
          },
          "metadata": {},
          "execution_count": 14
        }
      ]
    },
    {
      "cell_type": "markdown",
      "source": [
        "為 TensorFlow 變量的子集賦值"
      ],
      "metadata": {
        "id": "uzab-YfRlhin"
      }
    },
    {
      "cell_type": "code",
      "source": [
        "v[0, 0].assign(3.)"
      ],
      "metadata": {
        "colab": {
          "base_uri": "https://localhost:8080/"
        },
        "id": "BWNT4I1niilw",
        "outputId": "3663f221-2470-4a44-8ff6-876633570ddc"
      },
      "execution_count": 15,
      "outputs": [
        {
          "output_type": "execute_result",
          "data": {
            "text/plain": [
              "<tf.Variable 'UnreadVariable' shape=(3, 1) dtype=float32, numpy=\n",
              "array([[3.],\n",
              "       [1.],\n",
              "       [1.]], dtype=float32)>"
            ]
          },
          "metadata": {},
          "execution_count": 15
        }
      ]
    },
    {
      "cell_type": "markdown",
      "source": [
        "使用assign_add()"
      ],
      "metadata": {
        "id": "B64TJEP0lklx"
      }
    },
    {
      "cell_type": "code",
      "source": [
        "v.assign_add(tf.ones((3, 1)))"
      ],
      "metadata": {
        "colab": {
          "base_uri": "https://localhost:8080/"
        },
        "id": "GCZ3d4GsijG2",
        "outputId": "b42b9f9d-6364-4e30-8643-d878b72363bd"
      },
      "execution_count": 16,
      "outputs": [
        {
          "output_type": "execute_result",
          "data": {
            "text/plain": [
              "<tf.Variable 'UnreadVariable' shape=(3, 1) dtype=float32, numpy=\n",
              "array([[4.],\n",
              "       [2.],\n",
              "       [2.]], dtype=float32)>"
            ]
          },
          "metadata": {},
          "execution_count": 16
        }
      ]
    },
    {
      "cell_type": "markdown",
      "source": [
        "一些基本的數學運算"
      ],
      "metadata": {
        "id": "bBsHNk08lp_D"
      }
    },
    {
      "cell_type": "code",
      "source": [
        "a = tf.ones((2, 2))\n",
        "b = tf.square(a)\n",
        "c = tf.sqrt(a)\n",
        "d = b + c\n",
        "e = tf.matmul(a, b)\n",
        "e *= d"
      ],
      "metadata": {
        "id": "5NiQO8yxijEZ"
      },
      "execution_count": 17,
      "outputs": []
    },
    {
      "cell_type": "markdown",
      "source": [
        " 使用GradientTape"
      ],
      "metadata": {
        "id": "m7xUi1iDl2cz"
      }
    },
    {
      "cell_type": "code",
      "source": [
        "input_var = tf.Variable(initial_value=3.)\n",
        "with tf.GradientTape() as tape:\n",
        "   result = tf.square(input_var)\n",
        "gradient = tape.gradient(result, input_var)"
      ],
      "metadata": {
        "id": "B84hqRWQijBR"
      },
      "execution_count": 18,
      "outputs": []
    },
    {
      "cell_type": "markdown",
      "source": [
        " 使用GradientTape常量張量輸入"
      ],
      "metadata": {
        "id": "plJtfJrclsIJ"
      }
    },
    {
      "cell_type": "code",
      "source": [
        "input_const = tf.constant(3.)\n",
        "with tf.GradientTape() as tape:\n",
        "   tape.watch(input_const)\n",
        "   result = tf.square(input_const)\n",
        "gradient = tape.gradient(result, input_const)"
      ],
      "metadata": {
        "id": "2tHDHiLsioRS"
      },
      "execution_count": 19,
      "outputs": []
    },
    {
      "cell_type": "markdown",
      "source": [
        "使用嵌套梯度帶計算二階梯度"
      ],
      "metadata": {
        "id": "Lu-Y4n4Zl5Gm"
      }
    },
    {
      "cell_type": "code",
      "source": [
        "time = tf.Variable(0.)\n",
        "with tf.GradientTape() as outer_tape:\n",
        "    with tf.GradientTape() as inner_tape:\n",
        "        position =  4.9 * time ** 2\n",
        "    speed = inner_tape.gradient(position, time)\n",
        "acceleration = outer_tape.gradient(speed, time)"
      ],
      "metadata": {
        "id": "nwqJkLjNioPO"
      },
      "execution_count": 20,
      "outputs": []
    },
    {
      "cell_type": "markdown",
      "source": [
        "在 2D 平面中生成兩類隨機點"
      ],
      "metadata": {
        "id": "zf3uV9lml-Lf"
      }
    },
    {
      "cell_type": "code",
      "source": [
        "num_samples_per_class = 1000\n",
        "negative_samples = np.random.multivariate_normal(\n",
        "    mean=[0, 3],\n",
        "    cov=[[1, 0.5],[0.5, 1]],\n",
        "    size=num_samples_per_class)\n",
        "positive_samples = np.random.multivariate_normal(\n",
        "    mean=[3, 0],\n",
        "    cov=[[1, 0.5],[0.5, 1]],\n",
        "    size=num_samples_per_class)\n"
      ],
      "metadata": {
        "id": "mcTg9kWwioM2"
      },
      "execution_count": 21,
      "outputs": []
    },
    {
      "cell_type": "markdown",
      "source": [
        "將兩個類堆疊成一個形狀為 (2000, 2) 的數組"
      ],
      "metadata": {
        "id": "3cgud7qgmAyg"
      }
    },
    {
      "cell_type": "code",
      "source": [
        "inputs = np.vstack((negative_samples, positive_samples)).astype(np.float32)"
      ],
      "metadata": {
        "id": "rl_dJns_ioKd"
      },
      "execution_count": 22,
      "outputs": []
    },
    {
      "cell_type": "markdown",
      "source": [
        "生成相應的目標（0 和 1）"
      ],
      "metadata": {
        "id": "DRpW4d2omCvj"
      }
    },
    {
      "cell_type": "code",
      "source": [
        "targets = np.vstack((np.zeros((num_samples_per_class, 1), dtype=\"float32\"),\n",
        "                     np.ones((num_samples_per_class, 1), dtype=\"float32\")))"
      ],
      "metadata": {
        "id": "eqIVB5HkioHy"
      },
      "execution_count": 23,
      "outputs": []
    },
    {
      "cell_type": "markdown",
      "source": [
        "繪製兩個點類"
      ],
      "metadata": {
        "id": "uvHNErWwmEki"
      }
    },
    {
      "cell_type": "code",
      "source": [
        "import matplotlib.pyplot as plt\n",
        "plt.scatter(inputs[:, 0], inputs[:, 1], c=targets[:, 0])\n",
        "plt.show()"
      ],
      "metadata": {
        "colab": {
          "base_uri": "https://localhost:8080/",
          "height": 265
        },
        "id": "KIdw_2e7ii9_",
        "outputId": "5c993255-5fe3-4b3b-ccbd-44f8fc20ae7a"
      },
      "execution_count": 24,
      "outputs": [
        {
          "output_type": "display_data",
          "data": {
            "text/plain": [
              "<Figure size 432x288 with 1 Axes>"
            ],
            "image/png": "[encoded data removed]"
          },
          "metadata": {
            "needs_background": "light"
          }
        }
      ]
    },
    {
      "cell_type": "markdown",
      "source": [
        "創建線性分類器變量"
      ],
      "metadata": {
        "id": "-xcbzECnmIyR"
      }
    },
    {
      "cell_type": "code",
      "source": [
        "input_dim = 2\n",
        "output_dim = 1\n",
        "W = tf.Variable(initial_value=tf.random.uniform(shape=(input_dim, output_dim)))\n",
        "b = tf.Variable(initial_value=tf.zeros(shape=(output_dim,)))"
      ],
      "metadata": {
        "id": "Pr8MnINuii53"
      },
      "execution_count": 25,
      "outputs": []
    },
    {
      "cell_type": "markdown",
      "source": [
        "前向傳遞函數"
      ],
      "metadata": {
        "id": "bSVA7zdumKrm"
      }
    },
    {
      "cell_type": "code",
      "source": [
        "def model(inputs):\n",
        "    return tf.matmul(inputs, W) + b"
      ],
      "metadata": {
        "id": "x4qldTeFii04"
      },
      "execution_count": 26,
      "outputs": []
    },
    {
      "cell_type": "markdown",
      "source": [
        "均方誤差損失函數"
      ],
      "metadata": {
        "id": "0qwaBgQ9mMv8"
      }
    },
    {
      "cell_type": "code",
      "source": [
        "def square_loss(targets, predictions):\n",
        "    per_sample_losses = tf.square(targets - predictions)\n",
        "    return tf.reduce_mean(per_sample_losses)"
      ],
      "metadata": {
        "id": "a1dlrh_di1ax"
      },
      "execution_count": 27,
      "outputs": []
    },
    {
      "cell_type": "markdown",
      "source": [
        "訓練步驟函數"
      ],
      "metadata": {
        "id": "D6tWU2H2mOAr"
      }
    },
    {
      "cell_type": "code",
      "source": [
        "learning_rate = 0.1\n",
        "\n",
        "def training_step(inputs, targets):\n",
        "    with tf.GradientTape() as tape:\n",
        "        predictions = model(inputs)\n",
        "        loss = square_loss(targets, predictions)\n",
        "    grad_loss_wrt_W, grad_loss_wrt_b = tape.gradient(loss, [W, b])\n",
        "    W.assign_sub(grad_loss_wrt_W * learning_rate)\n",
        "    b.assign_sub(grad_loss_wrt_b * learning_rate)\n",
        "    return loss"
      ],
      "metadata": {
        "id": "KdbQ3B8ii2zn"
      },
      "execution_count": 28,
      "outputs": []
    },
    {
      "cell_type": "markdown",
      "source": [
        "批量訓練循環"
      ],
      "metadata": {
        "id": "dMZGjR5MmQfj"
      }
    },
    {
      "cell_type": "code",
      "source": [
        "for step in range(40):\n",
        "    loss = training_step(inputs, targets)\n",
        "    print(f\"Loss at step {step}: {loss:.4f}\")"
      ],
      "metadata": {
        "colab": {
          "base_uri": "https://localhost:8080/"
        },
        "id": "M5eTWOKri3-c",
        "outputId": "965d72d6-db42-4f09-e5f0-27785994ed92"
      },
      "execution_count": 29,
      "outputs": [
        {
          "output_type": "stream",
          "name": "stdout",
          "text": [
            "Loss at step 0: 0.2481\n",
            "Loss at step 1: 0.0821\n",
            "Loss at step 2: 0.0763\n",
            "Loss at step 3: 0.0716\n",
            "Loss at step 4: 0.0674\n",
            "Loss at step 5: 0.0636\n",
            "Loss at step 6: 0.0601\n",
            "Loss at step 7: 0.0569\n",
            "Loss at step 8: 0.0540\n",
            "Loss at step 9: 0.0514\n",
            "Loss at step 10: 0.0490\n",
            "Loss at step 11: 0.0468\n",
            "Loss at step 12: 0.0448\n",
            "Loss at step 13: 0.0429\n",
            "Loss at step 14: 0.0413\n",
            "Loss at step 15: 0.0397\n",
            "Loss at step 16: 0.0383\n",
            "Loss at step 17: 0.0371\n",
            "Loss at step 18: 0.0359\n",
            "Loss at step 19: 0.0349\n",
            "Loss at step 20: 0.0339\n",
            "Loss at step 21: 0.0330\n",
            "Loss at step 22: 0.0322\n",
            "Loss at step 23: 0.0315\n",
            "Loss at step 24: 0.0308\n",
            "Loss at step 25: 0.0302\n",
            "Loss at step 26: 0.0297\n",
            "Loss at step 27: 0.0292\n",
            "Loss at step 28: 0.0287\n",
            "Loss at step 29: 0.0283\n",
            "Loss at step 30: 0.0279\n",
            "Loss at step 31: 0.0276\n",
            "Loss at step 32: 0.0272\n",
            "Loss at step 33: 0.0269\n",
            "Loss at step 34: 0.0267\n",
            "Loss at step 35: 0.0264\n",
            "Loss at step 36: 0.0262\n",
            "Loss at step 37: 0.0260\n",
            "Loss at step 38: 0.0258\n",
            "Loss at step 39: 0.0257\n"
          ]
        }
      ]
    },
    {
      "cell_type": "code",
      "source": [
        "predictions = model(inputs)\n",
        "plt.scatter(inputs[:, 0], inputs[:, 1], c=predictions[:, 0] > 0.5)\n",
        "plt.show()"
      ],
      "metadata": {
        "colab": {
          "base_uri": "https://localhost:8080/",
          "height": 265
        },
        "id": "cKiP_w2Ji5kp",
        "outputId": "e16fa12e-a0a0-40f9-ade5-c38c30f7f2b8"
      },
      "execution_count": 30,
      "outputs": [
        {
          "output_type": "display_data",
          "data": {
            "text/plain": [
              "<Figure size 432x288 with 1 Axes>"
            ],
            "image/png": "[encoded data removed]"
          },
          "metadata": {
            "needs_background": "light"
          }
        }
      ]
    },
    {
      "cell_type": "code",
      "source": [
        "x = np.linspace(-1, 4, 100)\n",
        "y = - W[0] /  W[1] * x + (0.5 - b) / W[1]\n",
        "plt.plot(x, y, \"-r\")\n",
        "plt.scatter(inputs[:, 0], inputs[:, 1], c=predictions[:, 0] > 0.5)"
      ],
      "metadata": {
        "colab": {
          "base_uri": "https://localhost:8080/",
          "height": 282
        },
        "id": "xSFuceyJi65F",
        "outputId": "45345531-3a3d-4aab-efd3-91cc547dadaa"
      },
      "execution_count": 31,
      "outputs": [
        {
          "output_type": "execute_result",
          "data": {
            "text/plain": [
              "<matplotlib.collections.PathCollection at 0x7feb39e496d0>"
            ]
          },
          "metadata": {},
          "execution_count": 31
        },
        {
          "output_type": "display_data",
          "data": {
            "text/plain": [
              "<Figure size 432x288 with 1 Axes>"
            ],
            "image/png": "[encoded data removed]"
          },
          "metadata": {
            "needs_background": "light"
          }
        }
      ]
    },
    {
      "cell_type": "markdown",
      "source": [
        "Dense作為Layer子類實現的層"
      ],
      "metadata": {
        "id": "d7bmDy4hmVAd"
      }
    },
    {
      "cell_type": "code",
      "source": [
        "from tensorflow import keras\n",
        "\n",
        "class SimpleDense(keras.layers.Layer):\n",
        "\n",
        "    def __init__(self, units, activation=None):\n",
        "        super().__init__()\n",
        "        self.units = units\n",
        "        self.activation = activation\n",
        "\n",
        "    def build(self, input_shape):\n",
        "        input_dim = input_shape[-1]\n",
        "        self.W = self.add_weight(shape=(input_dim, self.units),\n",
        "                                 initializer=\"random_normal\")\n",
        "        self.b = self.add_weight(shape=(self.units,),\n",
        "                                 initializer=\"zeros\")\n",
        "\n",
        "    def call(self, inputs):\n",
        "        y = tf.matmul(inputs, self.W) + self.b\n",
        "        if self.activation is not None:\n",
        "            y = self.activation(y)\n",
        "        return y"
      ],
      "metadata": {
        "id": "a7sHTxbsi79r"
      },
      "execution_count": 32,
      "outputs": []
    },
    {
      "cell_type": "code",
      "source": [
        "my_dense = SimpleDense(units=32, activation=tf.nn.relu)\n",
        "input_tensor = tf.ones(shape=(2, 784))\n",
        "output_tensor = my_dense(input_tensor)\n",
        "print(output_tensor.shape)"
      ],
      "metadata": {
        "colab": {
          "base_uri": "https://localhost:8080/"
        },
        "id": "Ad4ipVCMi901",
        "outputId": "847a8db5-509e-4036-ac81-ec73cf6a6b0d"
      },
      "execution_count": 33,
      "outputs": [
        {
          "output_type": "stream",
          "name": "stdout",
          "text": [
            "(2, 32)\n"
          ]
        }
      ]
    },
    {
      "cell_type": "code",
      "source": [
        "from tensorflow.keras import layers\n",
        "layer = layers.Dense(32, activation=\"relu\")"
      ],
      "metadata": {
        "id": "kwqqMIWxi_ek"
      },
      "execution_count": 34,
      "outputs": []
    },
    {
      "cell_type": "code",
      "source": [
        "from tensorflow.keras import models\n",
        "from tensorflow.keras import layers\n",
        "model = models.Sequential([\n",
        "    layers.Dense(32, activation=\"relu\"),\n",
        "    layers.Dense(32)\n",
        "])"
      ],
      "metadata": {
        "id": "uRIIwC_vjAkg"
      },
      "execution_count": 35,
      "outputs": []
    },
    {
      "cell_type": "code",
      "source": [
        "model = keras.Sequential([\n",
        "    SimpleDense(32, activation=\"relu\"),\n",
        "    SimpleDense(64, activation=\"relu\"),\n",
        "    SimpleDense(32, activation=\"relu\"),\n",
        "    SimpleDense(10, activation=\"softmax\")\n",
        "])"
      ],
      "metadata": {
        "id": "pvmOZ3qLjBq2"
      },
      "execution_count": 36,
      "outputs": []
    },
    {
      "cell_type": "code",
      "source": [
        "model = keras.Sequential([keras.layers.Dense(1)])\n",
        "model.compile(optimizer=\"rmsprop\",\n",
        "              loss=\"mean_squared_error\",\n",
        "              metrics=[\"accuracy\"])"
      ],
      "metadata": {
        "id": "bAnXXG22jDHO"
      },
      "execution_count": 37,
      "outputs": []
    },
    {
      "cell_type": "code",
      "source": [
        "model.compile(optimizer=keras.optimizers.RMSprop(),\n",
        "              loss=keras.losses.MeanSquaredError(),\n",
        "              metrics=[keras.metrics.BinaryAccuracy()])"
      ],
      "metadata": {
        "id": "rG4OPAsBjETz"
      },
      "execution_count": 38,
      "outputs": []
    },
    {
      "cell_type": "code",
      "source": [
        "history = model.fit(\n",
        "    inputs,\n",
        "    targets,\n",
        "    epochs=5,\n",
        "    batch_size=128\n",
        ")"
      ],
      "metadata": {
        "colab": {
          "base_uri": "https://localhost:8080/"
        },
        "id": "FK8JsaXbjHLR",
        "outputId": "57306080-54b7-4347-c39c-e6e8e5da8250"
      },
      "execution_count": 39,
      "outputs": [
        {
          "output_type": "stream",
          "name": "stdout",
          "text": [
            "Epoch 1/5\n",
            "16/16 [==============================] - 1s 3ms/step - loss: 5.7484 - binary_accuracy: 0.7005\n",
            "Epoch 2/5\n",
            "16/16 [==============================] - 0s 3ms/step - loss: 5.4191 - binary_accuracy: 0.7095\n",
            "Epoch 3/5\n",
            "16/16 [==============================] - 0s 3ms/step - loss: 5.1491 - binary_accuracy: 0.7210\n",
            "Epoch 4/5\n",
            "16/16 [==============================] - 0s 3ms/step - loss: 4.8883 - binary_accuracy: 0.7280\n",
            "Epoch 5/5\n",
            "16/16 [==============================] - 0s 2ms/step - loss: 4.6395 - binary_accuracy: 0.7340\n"
          ]
        }
      ]
    },
    {
      "cell_type": "code",
      "source": [
        "history.history"
      ],
      "metadata": {
        "colab": {
          "base_uri": "https://localhost:8080/"
        },
        "id": "pUIfHVOTjIhd",
        "outputId": "59e91aab-2b18-4a95-a62c-6247b9273cb1"
      },
      "execution_count": 40,
      "outputs": [
        {
          "output_type": "execute_result",
          "data": {
            "text/plain": [
              "{'loss': [5.748360633850098,\n",
              "  5.419121265411377,\n",
              "  5.149080753326416,\n",
              "  4.888268947601318,\n",
              "  4.639487266540527],\n",
              " 'binary_accuracy': [0.7005000114440918,\n",
              "  0.7095000147819519,\n",
              "  0.7210000157356262,\n",
              "  0.7279999852180481,\n",
              "  0.734000027179718]}"
            ]
          },
          "metadata": {},
          "execution_count": 40
        }
      ]
    },
    {
      "cell_type": "markdown",
      "source": [
        "使用validation_data參數"
      ],
      "metadata": {
        "id": "Zm-_KNW2mjkS"
      }
    },
    {
      "cell_type": "code",
      "source": [
        "model = keras.Sequential([keras.layers.Dense(1)])\n",
        "model.compile(optimizer=keras.optimizers.RMSprop(learning_rate=0.1),\n",
        "              loss=keras.losses.MeanSquaredError(),\n",
        "              metrics=[keras.metrics.BinaryAccuracy()])\n",
        "\n",
        "indices_permutation = np.random.permutation(len(inputs))\n",
        "shuffled_inputs = inputs[indices_permutation]\n",
        "shuffled_targets = targets[indices_permutation]\n",
        "\n",
        "num_validation_samples = int(0.3 * len(inputs))\n",
        "val_inputs = shuffled_inputs[:num_validation_samples]\n",
        "val_targets = shuffled_targets[:num_validation_samples]\n",
        "training_inputs = shuffled_inputs[num_validation_samples:]\n",
        "training_targets = shuffled_targets[num_validation_samples:]\n",
        "model.fit(\n",
        "    training_inputs,\n",
        "    training_targets,\n",
        "    epochs=5,\n",
        "    batch_size=16,\n",
        "    validation_data=(val_inputs, val_targets)\n",
        ")"
      ],
      "metadata": {
        "colab": {
          "base_uri": "https://localhost:8080/"
        },
        "id": "YP3cdxI_jKBx",
        "outputId": "1b407535-aba9-4e3f-f8c3-ac4e0144363c"
      },
      "execution_count": 41,
      "outputs": [
        {
          "output_type": "stream",
          "name": "stdout",
          "text": [
            "Epoch 1/5\n",
            "88/88 [==============================] - 1s 4ms/step - loss: 0.2285 - binary_accuracy: 0.9186 - val_loss: 0.2199 - val_binary_accuracy: 0.7783\n",
            "Epoch 2/5\n",
            "88/88 [==============================] - 0s 2ms/step - loss: 0.0754 - binary_accuracy: 0.9514 - val_loss: 0.1804 - val_binary_accuracy: 0.6917\n",
            "Epoch 3/5\n",
            "88/88 [==============================] - 0s 2ms/step - loss: 0.0647 - binary_accuracy: 0.9571 - val_loss: 0.0693 - val_binary_accuracy: 0.9917\n",
            "Epoch 4/5\n",
            "88/88 [==============================] - 0s 2ms/step - loss: 0.0698 - binary_accuracy: 0.9586 - val_loss: 0.0292 - val_binary_accuracy: 1.0000\n",
            "Epoch 5/5\n",
            "88/88 [==============================] - 1s 6ms/step - loss: 0.0741 - binary_accuracy: 0.9486 - val_loss: 0.0687 - val_binary_accuracy: 0.9617\n"
          ]
        },
        {
          "output_type": "execute_result",
          "data": {
            "text/plain": [
              "<keras.callbacks.History at 0x7feb39b242d0>"
            ]
          },
          "metadata": {},
          "execution_count": 41
        }
      ]
    },
    {
      "cell_type": "code",
      "source": [
        "predictions = model.predict(val_inputs, batch_size=128)\n",
        "print(predictions[:10])"
      ],
      "metadata": {
        "colab": {
          "base_uri": "https://localhost:8080/"
        },
        "id": "paRL9H4SjKwV",
        "outputId": "d35d513f-b5f1-424c-8577-f614201efb80"
      },
      "execution_count": 42,
      "outputs": [
        {
          "output_type": "stream",
          "name": "stdout",
          "text": [
            "[[-0.15005139]\n",
            " [-0.12194768]\n",
            " [ 0.66035867]\n",
            " [-0.02740282]\n",
            " [ 0.67160106]\n",
            " [-0.35092577]\n",
            " [-0.04801071]\n",
            " [-0.0420942 ]\n",
            " [-0.24541005]\n",
            " [ 0.5496829 ]]\n"
          ]
        }
      ]
    }
  ]
}